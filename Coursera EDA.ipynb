{
 "cells": [
  {
   "cell_type": "markdown",
   "id": "9d0204ec",
   "metadata": {},
   "source": [
    "IBM Machine Learning Professional Certificate<br>\n",
    "__Exploratory Data Analysis for Machine Learning__\n",
    "\n",
    "# COURSERA Exploratory Data Analysis\n",
    "***\n",
    "\n",
    "__Author__: Chawit Kaewnuratchadasorn<br>\n",
    "__Date__: 11th Jan 2022<br>\n",
    "\n",
    "This notebook was created for Exploratory Data Analysis for Machine Learning course of IBM Machine Learning certificate. The dataset was obtained from Kaggle Dataset by SIDDHARTH M. The link was attached below. In this notebook, the Exploratory Data Analysis (EDA) was conducted on the dataset, following the course project instructions. This project aims to analyse courses and trends in Coursera platform, give insights from results, and practice data analysis tools. \n",
    "\n",
    "Data source: [Coursera Course Dataset](https://www.kaggle.com/siddharthm1698/coursera-course-dataset/code)\n",
    "\n",
    "The contents include:\n",
    "> 1. Overview of Dataset\n",
    "> 2. Plan for Data Exploration\n",
    "> 3. Data Cleaning and Feature Engineering\n",
    "> 4. Explortory Data Analysis\n",
    "> 5. Hypothesis Tests\n",
    "> 6. Summary and Future Plan"
   ]
  },
  {
   "cell_type": "markdown",
   "id": "80b5e660",
   "metadata": {},
   "source": [
    "### Required Libraries"
   ]
  },
  {
   "cell_type": "code",
   "execution_count": 1,
   "id": "68df18e9",
   "metadata": {},
   "outputs": [],
   "source": [
    "import pandas as pd\n",
    "import numpy as np\n",
    "import seaborn as sns\n",
    "import matplotlib.pyplot as plt\n",
    "import seaborn as sns\n",
    "\n",
    "sns.set()\n",
    "%matplotlib inline"
   ]
  },
  {
   "cell_type": "markdown",
   "id": "771290ab",
   "metadata": {},
   "source": [
    "## 1. Overview of Dataset\n",
    "\n",
    "In this section, we load the dataset to this notebook and examine the number and types of data."
   ]
  },
  {
   "cell_type": "code",
   "execution_count": 2,
   "id": "09d8c6b0",
   "metadata": {},
   "outputs": [
    {
     "data": {
      "text/html": [
       "<div>\n",
       "<style scoped>\n",
       "    .dataframe tbody tr th:only-of-type {\n",
       "        vertical-align: middle;\n",
       "    }\n",
       "\n",
       "    .dataframe tbody tr th {\n",
       "        vertical-align: top;\n",
       "    }\n",
       "\n",
       "    .dataframe thead th {\n",
       "        text-align: right;\n",
       "    }\n",
       "</style>\n",
       "<table border=\"1\" class=\"dataframe\">\n",
       "  <thead>\n",
       "    <tr style=\"text-align: right;\">\n",
       "      <th></th>\n",
       "      <th>Unnamed: 0</th>\n",
       "      <th>course_title</th>\n",
       "      <th>course_organization</th>\n",
       "      <th>course_Certificate_type</th>\n",
       "      <th>course_rating</th>\n",
       "      <th>course_difficulty</th>\n",
       "      <th>course_students_enrolled</th>\n",
       "    </tr>\n",
       "  </thead>\n",
       "  <tbody>\n",
       "    <tr>\n",
       "      <th>0</th>\n",
       "      <td>134</td>\n",
       "      <td>(ISC)² Systems Security Certified Practitioner...</td>\n",
       "      <td>(ISC)²</td>\n",
       "      <td>SPECIALIZATION</td>\n",
       "      <td>4.7</td>\n",
       "      <td>Beginner</td>\n",
       "      <td>5.3k</td>\n",
       "    </tr>\n",
       "    <tr>\n",
       "      <th>1</th>\n",
       "      <td>743</td>\n",
       "      <td>A Crash Course in Causality:  Inferring Causal...</td>\n",
       "      <td>University of Pennsylvania</td>\n",
       "      <td>COURSE</td>\n",
       "      <td>4.7</td>\n",
       "      <td>Intermediate</td>\n",
       "      <td>17k</td>\n",
       "    </tr>\n",
       "    <tr>\n",
       "      <th>2</th>\n",
       "      <td>874</td>\n",
       "      <td>A Crash Course in Data Science</td>\n",
       "      <td>Johns Hopkins University</td>\n",
       "      <td>COURSE</td>\n",
       "      <td>4.5</td>\n",
       "      <td>Mixed</td>\n",
       "      <td>130k</td>\n",
       "    </tr>\n",
       "    <tr>\n",
       "      <th>3</th>\n",
       "      <td>413</td>\n",
       "      <td>A Law Student's Toolkit</td>\n",
       "      <td>Yale University</td>\n",
       "      <td>COURSE</td>\n",
       "      <td>4.7</td>\n",
       "      <td>Mixed</td>\n",
       "      <td>91k</td>\n",
       "    </tr>\n",
       "    <tr>\n",
       "      <th>4</th>\n",
       "      <td>635</td>\n",
       "      <td>A Life of Happiness and Fulfillment</td>\n",
       "      <td>Indian School of Business</td>\n",
       "      <td>COURSE</td>\n",
       "      <td>4.8</td>\n",
       "      <td>Mixed</td>\n",
       "      <td>320k</td>\n",
       "    </tr>\n",
       "  </tbody>\n",
       "</table>\n",
       "</div>"
      ],
      "text/plain": [
       "   Unnamed: 0                                       course_title  \\\n",
       "0         134  (ISC)² Systems Security Certified Practitioner...   \n",
       "1         743  A Crash Course in Causality:  Inferring Causal...   \n",
       "2         874                     A Crash Course in Data Science   \n",
       "3         413                            A Law Student's Toolkit   \n",
       "4         635                A Life of Happiness and Fulfillment   \n",
       "\n",
       "          course_organization course_Certificate_type  course_rating  \\\n",
       "0                      (ISC)²          SPECIALIZATION            4.7   \n",
       "1  University of Pennsylvania                  COURSE            4.7   \n",
       "2    Johns Hopkins University                  COURSE            4.5   \n",
       "3             Yale University                  COURSE            4.7   \n",
       "4   Indian School of Business                  COURSE            4.8   \n",
       "\n",
       "  course_difficulty course_students_enrolled  \n",
       "0          Beginner                     5.3k  \n",
       "1      Intermediate                      17k  \n",
       "2             Mixed                     130k  \n",
       "3             Mixed                      91k  \n",
       "4             Mixed                     320k  "
      ]
     },
     "execution_count": 2,
     "metadata": {},
     "output_type": "execute_result"
    }
   ],
   "source": [
    "# Read and load dataset from csv file\n",
    "data = pd.read_csv(\"coursea_data.csv\")\n",
    "data.head()"
   ]
  },
  {
   "cell_type": "code",
   "execution_count": 3,
   "id": "6d83944c",
   "metadata": {},
   "outputs": [
    {
     "name": "stdout",
     "output_type": "stream",
     "text": [
      "Number of rows in the data: 891\n",
      "Number of columns in the data: 7\n",
      "<class 'pandas.core.frame.DataFrame'>\n",
      "RangeIndex: 891 entries, 0 to 890\n",
      "Data columns (total 7 columns):\n",
      " #   Column                    Non-Null Count  Dtype  \n",
      "---  ------                    --------------  -----  \n",
      " 0   Unnamed: 0                891 non-null    int64  \n",
      " 1   course_title              891 non-null    object \n",
      " 2   course_organization       891 non-null    object \n",
      " 3   course_Certificate_type   891 non-null    object \n",
      " 4   course_rating             891 non-null    float64\n",
      " 5   course_difficulty         891 non-null    object \n",
      " 6   course_students_enrolled  891 non-null    object \n",
      "dtypes: float64(1), int64(1), object(5)\n",
      "memory usage: 48.9+ KB\n"
     ]
    }
   ],
   "source": [
    "# Examine the columns, rows, and missing data\n",
    "print(\"Number of rows in the data:\", data.shape[0])\n",
    "print(\"Number of columns in the data:\", data.shape[1])\n",
    "data.info()"
   ]
  },
  {
   "cell_type": "markdown",
   "id": "fb61a938",
   "metadata": {},
   "source": [
    "The data visualisation tells that there are 891 rows and 7 columns. Fortunately, the dataset has no null value to be replaced. Then, we will explore each column in Data Exploration section before cleaning and featuring the data."
   ]
  },
  {
   "cell_type": "markdown",
   "id": "5f15d54d",
   "metadata": {},
   "source": [
    "## 2. Data Exploration\n",
    "\n",
    "In this section, each column is more deeply visualised and examined."
   ]
  },
  {
   "cell_type": "code",
   "execution_count": 4,
   "id": "3c750549",
   "metadata": {},
   "outputs": [
    {
     "data": {
      "text/plain": [
       "Index(['Unnamed: 0', 'course_title', 'course_organization',\n",
       "       'course_Certificate_type', 'course_rating', 'course_difficulty',\n",
       "       'course_students_enrolled'],\n",
       "      dtype='object')"
      ]
     },
     "execution_count": 4,
     "metadata": {},
     "output_type": "execute_result"
    }
   ],
   "source": [
    "# Examine all columns\n",
    "data.columns"
   ]
  },
  {
   "cell_type": "markdown",
   "id": "13f3d6eb",
   "metadata": {},
   "source": [
    "Among 6 columns, including title, organisation, certificate type, rating, difficulty, and number of student, there are two columns that is grouped non-numerically. These are certificate type and difficulty. Besides, the number of student needs to be made numerical. Therefore, the plan of data cleaning is to find duplicated courses that refer to the same courses isssued from the same organisations and change string of student number to numerical type. The featuring engineering then will encode certificate type and difficulty. "
   ]
  },
  {
   "cell_type": "code",
   "execution_count": 5,
   "id": "645810b5",
   "metadata": {},
   "outputs": [
    {
     "data": {
      "text/plain": [
       "COURSE                      582\n",
       "SPECIALIZATION              297\n",
       "PROFESSIONAL CERTIFICATE     12\n",
       "Name: course_Certificate_type, dtype: int64"
      ]
     },
     "execution_count": 5,
     "metadata": {},
     "output_type": "execute_result"
    }
   ],
   "source": [
    "data.course_Certificate_type.value_counts()"
   ]
  },
  {
   "cell_type": "code",
   "execution_count": 6,
   "id": "ceae2043",
   "metadata": {},
   "outputs": [
    {
     "data": {
      "text/plain": [
       "Beginner        487\n",
       "Intermediate    198\n",
       "Mixed           187\n",
       "Advanced         19\n",
       "Name: course_difficulty, dtype: int64"
      ]
     },
     "execution_count": 6,
     "metadata": {},
     "output_type": "execute_result"
    }
   ],
   "source": [
    "data.course_difficulty.value_counts()"
   ]
  },
  {
   "cell_type": "markdown",
   "id": "ead289b3",
   "metadata": {},
   "source": [
    "## 3. Data Cleaning and Feature Engineering"
   ]
  },
  {
   "cell_type": "code",
   "execution_count": 7,
   "id": "1066633c",
   "metadata": {},
   "outputs": [
    {
     "data": {
      "text/plain": [
       "Developing Your Musicianship    2\n",
       "Marketing Digital               2\n",
       "Machine Learning                2\n",
       "Name: course_title, dtype: int64"
      ]
     },
     "execution_count": 7,
     "metadata": {},
     "output_type": "execute_result"
    }
   ],
   "source": [
    "title = data.course_title.value_counts()\n",
    "title[title > 1]"
   ]
  },
  {
   "cell_type": "code",
   "execution_count": 8,
   "id": "47ffb6d2",
   "metadata": {},
   "outputs": [
    {
     "data": {
      "text/html": [
       "<div>\n",
       "<style scoped>\n",
       "    .dataframe tbody tr th:only-of-type {\n",
       "        vertical-align: middle;\n",
       "    }\n",
       "\n",
       "    .dataframe tbody tr th {\n",
       "        vertical-align: top;\n",
       "    }\n",
       "\n",
       "    .dataframe thead th {\n",
       "        text-align: right;\n",
       "    }\n",
       "</style>\n",
       "<table border=\"1\" class=\"dataframe\">\n",
       "  <thead>\n",
       "    <tr style=\"text-align: right;\">\n",
       "      <th></th>\n",
       "      <th>Unnamed: 0</th>\n",
       "      <th>course_title</th>\n",
       "      <th>course_organization</th>\n",
       "      <th>course_Certificate_type</th>\n",
       "      <th>course_rating</th>\n",
       "      <th>course_difficulty</th>\n",
       "      <th>course_students_enrolled</th>\n",
       "    </tr>\n",
       "  </thead>\n",
       "  <tbody>\n",
       "    <tr>\n",
       "      <th>563</th>\n",
       "      <td>181</td>\n",
       "      <td>Machine Learning</td>\n",
       "      <td>University of Washington</td>\n",
       "      <td>SPECIALIZATION</td>\n",
       "      <td>4.6</td>\n",
       "      <td>Intermediate</td>\n",
       "      <td>290k</td>\n",
       "    </tr>\n",
       "    <tr>\n",
       "      <th>564</th>\n",
       "      <td>6</td>\n",
       "      <td>Machine Learning</td>\n",
       "      <td>Stanford University</td>\n",
       "      <td>COURSE</td>\n",
       "      <td>4.9</td>\n",
       "      <td>Mixed</td>\n",
       "      <td>3.2m</td>\n",
       "    </tr>\n",
       "  </tbody>\n",
       "</table>\n",
       "</div>"
      ],
      "text/plain": [
       "     Unnamed: 0      course_title       course_organization  \\\n",
       "563         181  Machine Learning  University of Washington   \n",
       "564           6  Machine Learning       Stanford University   \n",
       "\n",
       "    course_Certificate_type  course_rating course_difficulty  \\\n",
       "563          SPECIALIZATION            4.6      Intermediate   \n",
       "564                  COURSE            4.9             Mixed   \n",
       "\n",
       "    course_students_enrolled  \n",
       "563                     290k  \n",
       "564                     3.2m  "
      ]
     },
     "execution_count": 8,
     "metadata": {},
     "output_type": "execute_result"
    }
   ],
   "source": [
    "data[data['course_title']==\"Machine Learning\"]"
   ]
  },
  {
   "cell_type": "code",
   "execution_count": 9,
   "id": "955f310f",
   "metadata": {},
   "outputs": [
    {
     "data": {
      "text/html": [
       "<div>\n",
       "<style scoped>\n",
       "    .dataframe tbody tr th:only-of-type {\n",
       "        vertical-align: middle;\n",
       "    }\n",
       "\n",
       "    .dataframe tbody tr th {\n",
       "        vertical-align: top;\n",
       "    }\n",
       "\n",
       "    .dataframe thead th {\n",
       "        text-align: right;\n",
       "    }\n",
       "</style>\n",
       "<table border=\"1\" class=\"dataframe\">\n",
       "  <thead>\n",
       "    <tr style=\"text-align: right;\">\n",
       "      <th></th>\n",
       "      <th>Unnamed: 0</th>\n",
       "      <th>course_title</th>\n",
       "      <th>course_organization</th>\n",
       "      <th>course_Certificate_type</th>\n",
       "      <th>course_rating</th>\n",
       "      <th>course_difficulty</th>\n",
       "      <th>course_students_enrolled</th>\n",
       "    </tr>\n",
       "  </thead>\n",
       "  <tbody>\n",
       "    <tr>\n",
       "      <th>224</th>\n",
       "      <td>756</td>\n",
       "      <td>Developing Your Musicianship</td>\n",
       "      <td>Berklee College of Music</td>\n",
       "      <td>COURSE</td>\n",
       "      <td>4.8</td>\n",
       "      <td>Mixed</td>\n",
       "      <td>41k</td>\n",
       "    </tr>\n",
       "    <tr>\n",
       "      <th>225</th>\n",
       "      <td>205</td>\n",
       "      <td>Developing Your Musicianship</td>\n",
       "      <td>Berklee College of Music</td>\n",
       "      <td>SPECIALIZATION</td>\n",
       "      <td>4.8</td>\n",
       "      <td>Beginner</td>\n",
       "      <td>54k</td>\n",
       "    </tr>\n",
       "  </tbody>\n",
       "</table>\n",
       "</div>"
      ],
      "text/plain": [
       "     Unnamed: 0                  course_title       course_organization  \\\n",
       "224         756  Developing Your Musicianship  Berklee College of Music   \n",
       "225         205  Developing Your Musicianship  Berklee College of Music   \n",
       "\n",
       "    course_Certificate_type  course_rating course_difficulty  \\\n",
       "224                  COURSE            4.8             Mixed   \n",
       "225          SPECIALIZATION            4.8          Beginner   \n",
       "\n",
       "    course_students_enrolled  \n",
       "224                      41k  \n",
       "225                      54k  "
      ]
     },
     "execution_count": 9,
     "metadata": {},
     "output_type": "execute_result"
    }
   ],
   "source": [
    "data[data['course_title']==\"Developing Your Musicianship\"]"
   ]
  },
  {
   "cell_type": "code",
   "execution_count": 10,
   "id": "2cc57f60",
   "metadata": {},
   "outputs": [
    {
     "data": {
      "text/html": [
       "<div>\n",
       "<style scoped>\n",
       "    .dataframe tbody tr th:only-of-type {\n",
       "        vertical-align: middle;\n",
       "    }\n",
       "\n",
       "    .dataframe tbody tr th {\n",
       "        vertical-align: top;\n",
       "    }\n",
       "\n",
       "    .dataframe thead th {\n",
       "        text-align: right;\n",
       "    }\n",
       "</style>\n",
       "<table border=\"1\" class=\"dataframe\">\n",
       "  <thead>\n",
       "    <tr style=\"text-align: right;\">\n",
       "      <th></th>\n",
       "      <th>Unnamed: 0</th>\n",
       "      <th>course_title</th>\n",
       "      <th>course_organization</th>\n",
       "      <th>course_Certificate_type</th>\n",
       "      <th>course_rating</th>\n",
       "      <th>course_difficulty</th>\n",
       "      <th>course_students_enrolled</th>\n",
       "    </tr>\n",
       "  </thead>\n",
       "  <tbody>\n",
       "    <tr>\n",
       "      <th>582</th>\n",
       "      <td>241</td>\n",
       "      <td>Marketing Digital</td>\n",
       "      <td>Universidade de São Paulo</td>\n",
       "      <td>COURSE</td>\n",
       "      <td>4.8</td>\n",
       "      <td>Beginner</td>\n",
       "      <td>81k</td>\n",
       "    </tr>\n",
       "    <tr>\n",
       "      <th>583</th>\n",
       "      <td>325</td>\n",
       "      <td>Marketing Digital</td>\n",
       "      <td>Universidad Austral</td>\n",
       "      <td>SPECIALIZATION</td>\n",
       "      <td>4.7</td>\n",
       "      <td>Beginner</td>\n",
       "      <td>39k</td>\n",
       "    </tr>\n",
       "  </tbody>\n",
       "</table>\n",
       "</div>"
      ],
      "text/plain": [
       "     Unnamed: 0       course_title        course_organization  \\\n",
       "582         241  Marketing Digital  Universidade de São Paulo   \n",
       "583         325  Marketing Digital        Universidad Austral   \n",
       "\n",
       "    course_Certificate_type  course_rating course_difficulty  \\\n",
       "582                  COURSE            4.8          Beginner   \n",
       "583          SPECIALIZATION            4.7          Beginner   \n",
       "\n",
       "    course_students_enrolled  \n",
       "582                      81k  \n",
       "583                      39k  "
      ]
     },
     "execution_count": 10,
     "metadata": {},
     "output_type": "execute_result"
    }
   ],
   "source": [
    "data[data['course_title']==\"Marketing Digital\"]"
   ]
  },
  {
   "cell_type": "markdown",
   "id": "f18f0ab9",
   "metadata": {},
   "source": [
    "There seems to be no duplicated course. This means the dataset was cleaned. Next, the number of student."
   ]
  },
  {
   "cell_type": "code",
   "execution_count": 11,
   "id": "2ff746f6",
   "metadata": {},
   "outputs": [
    {
     "data": {
      "text/html": [
       "<div>\n",
       "<style scoped>\n",
       "    .dataframe tbody tr th:only-of-type {\n",
       "        vertical-align: middle;\n",
       "    }\n",
       "\n",
       "    .dataframe tbody tr th {\n",
       "        vertical-align: top;\n",
       "    }\n",
       "\n",
       "    .dataframe thead th {\n",
       "        text-align: right;\n",
       "    }\n",
       "</style>\n",
       "<table border=\"1\" class=\"dataframe\">\n",
       "  <thead>\n",
       "    <tr style=\"text-align: right;\">\n",
       "      <th></th>\n",
       "      <th>Unnamed: 0</th>\n",
       "      <th>course_title</th>\n",
       "      <th>course_organization</th>\n",
       "      <th>course_Certificate_type</th>\n",
       "      <th>course_rating</th>\n",
       "      <th>course_difficulty</th>\n",
       "      <th>course_students_enrolled</th>\n",
       "    </tr>\n",
       "  </thead>\n",
       "  <tbody>\n",
       "    <tr>\n",
       "      <th>0</th>\n",
       "      <td>134</td>\n",
       "      <td>(ISC)² Systems Security Certified Practitioner...</td>\n",
       "      <td>(ISC)²</td>\n",
       "      <td>SPECIALIZATION</td>\n",
       "      <td>4.7</td>\n",
       "      <td>Beginner</td>\n",
       "      <td>5300</td>\n",
       "    </tr>\n",
       "    <tr>\n",
       "      <th>1</th>\n",
       "      <td>743</td>\n",
       "      <td>A Crash Course in Causality:  Inferring Causal...</td>\n",
       "      <td>University of Pennsylvania</td>\n",
       "      <td>COURSE</td>\n",
       "      <td>4.7</td>\n",
       "      <td>Intermediate</td>\n",
       "      <td>17000</td>\n",
       "    </tr>\n",
       "    <tr>\n",
       "      <th>2</th>\n",
       "      <td>874</td>\n",
       "      <td>A Crash Course in Data Science</td>\n",
       "      <td>Johns Hopkins University</td>\n",
       "      <td>COURSE</td>\n",
       "      <td>4.5</td>\n",
       "      <td>Mixed</td>\n",
       "      <td>130000</td>\n",
       "    </tr>\n",
       "    <tr>\n",
       "      <th>3</th>\n",
       "      <td>413</td>\n",
       "      <td>A Law Student's Toolkit</td>\n",
       "      <td>Yale University</td>\n",
       "      <td>COURSE</td>\n",
       "      <td>4.7</td>\n",
       "      <td>Mixed</td>\n",
       "      <td>91000</td>\n",
       "    </tr>\n",
       "    <tr>\n",
       "      <th>4</th>\n",
       "      <td>635</td>\n",
       "      <td>A Life of Happiness and Fulfillment</td>\n",
       "      <td>Indian School of Business</td>\n",
       "      <td>COURSE</td>\n",
       "      <td>4.8</td>\n",
       "      <td>Mixed</td>\n",
       "      <td>320000</td>\n",
       "    </tr>\n",
       "  </tbody>\n",
       "</table>\n",
       "</div>"
      ],
      "text/plain": [
       "   Unnamed: 0                                       course_title  \\\n",
       "0         134  (ISC)² Systems Security Certified Practitioner...   \n",
       "1         743  A Crash Course in Causality:  Inferring Causal...   \n",
       "2         874                     A Crash Course in Data Science   \n",
       "3         413                            A Law Student's Toolkit   \n",
       "4         635                A Life of Happiness and Fulfillment   \n",
       "\n",
       "          course_organization course_Certificate_type  course_rating  \\\n",
       "0                      (ISC)²          SPECIALIZATION            4.7   \n",
       "1  University of Pennsylvania                  COURSE            4.7   \n",
       "2    Johns Hopkins University                  COURSE            4.5   \n",
       "3             Yale University                  COURSE            4.7   \n",
       "4   Indian School of Business                  COURSE            4.8   \n",
       "\n",
       "  course_difficulty  course_students_enrolled  \n",
       "0          Beginner                      5300  \n",
       "1      Intermediate                     17000  \n",
       "2             Mixed                    130000  \n",
       "3             Mixed                     91000  \n",
       "4             Mixed                    320000  "
      ]
     },
     "execution_count": 11,
     "metadata": {},
     "output_type": "execute_result"
    }
   ],
   "source": [
    "# change k and m to 1000 and 1000000\n",
    "data['course_students_enrolled'] = data['course_students_enrolled']\\\n",
    ".replace({'k': '*1e3', 'm': '*1e6'}, regex=True).map(pd.eval).astype(int)\n",
    "data.head()"
   ]
  },
  {
   "cell_type": "markdown",
   "id": "4e5d75c8",
   "metadata": {},
   "source": [
    "## 4. Exploratory Data Analysis\n",
    "\n",
    "In this section, we have plotted the following plots to further find the correlation of data.\n",
    "\n",
    "> 1. Histogram of certificate, rating, difficulty, top organization\n",
    "> 2. Top organisations by rating ang total students\n",
    "> 3. Top courses by enrolled students and rating"
   ]
  },
  {
   "cell_type": "markdown",
   "id": "b944bb9f",
   "metadata": {},
   "source": [
    "### 4.1 Histograms"
   ]
  },
  {
   "cell_type": "code",
   "execution_count": 12,
   "id": "7ae37d4a",
   "metadata": {},
   "outputs": [
    {
     "data": {
      "text/plain": [
       "<AxesSubplot:xlabel='course_Certificate_type', ylabel='count'>"
      ]
     },
     "execution_count": 12,
     "metadata": {},
     "output_type": "execute_result"
    },
    {
     "data": {
      "image/png": "[encoded data removed]",
      "text/plain": [
       "<Figure size 432x288 with 1 Axes>"
      ]
     },
     "metadata": {
      "needs_background": "light"
     },
     "output_type": "display_data"
    }
   ],
   "source": [
    "sns.countplot(data = data , x = 'course_Certificate_type')"
   ]
  },
  {
   "cell_type": "code",
   "execution_count": 13,
   "id": "011be580",
   "metadata": {},
   "outputs": [
    {
     "data": {
      "text/plain": [
       "<AxesSubplot:xlabel='course_rating', ylabel='count'>"
      ]
     },
     "execution_count": 13,
     "metadata": {},
     "output_type": "execute_result"
    },
    {
     "data": {
      "image/png": "[encoded data removed]",
      "text/plain": [
       "<Figure size 432x288 with 1 Axes>"
      ]
     },
     "metadata": {
      "needs_background": "light"
     },
     "output_type": "display_data"
    }
   ],
   "source": [
    "sns.countplot(data = data , x = 'course_rating')"
   ]
  },
  {
   "cell_type": "code",
   "execution_count": 14,
   "id": "8e2b495c",
   "metadata": {},
   "outputs": [
    {
     "data": {
      "text/plain": [
       "<AxesSubplot:xlabel='course_difficulty', ylabel='count'>"
      ]
     },
     "execution_count": 14,
     "metadata": {},
     "output_type": "execute_result"
    },
    {
     "data": {
      "image/png": "[encoded data removed]",
      "text/plain": [
       "<Figure size 432x288 with 1 Axes>"
      ]
     },
     "metadata": {
      "needs_background": "light"
     },
     "output_type": "display_data"
    }
   ],
   "source": [
    "sns.countplot(data = data , x = 'course_difficulty')"
   ]
  },
  {
   "cell_type": "code",
   "execution_count": 15,
   "id": "46a38fc0",
   "metadata": {},
   "outputs": [
    {
     "data": {
      "image/png": "[encoded data removed]",
      "text/plain": [
       "<Figure size 432x288 with 1 Axes>"
      ]
     },
     "metadata": {
      "needs_background": "light"
     },
     "output_type": "display_data"
    }
   ],
   "source": [
    "organization = pd.DataFrame(data['course_organization'].value_counts()).head(10)\n",
    "sns.barplot(x = organization.index , y = organization.course_organization)\n",
    "plt.xticks(rotation = 90);"
   ]
  },
  {
   "cell_type": "markdown",
   "id": "aa7e76b3",
   "metadata": {},
   "source": [
    "### 4.2 Top organisations"
   ]
  },
  {
   "cell_type": "code",
   "execution_count": 16,
   "id": "025170f0",
   "metadata": {},
   "outputs": [
    {
     "data": {
      "text/plain": [
       "course_organization\n",
       "Hebrew University of Jerusalem                 4.900000\n",
       "Nanyang Technological University, Singapore    4.900000\n",
       "Universidade Estadual de Campinas              4.900000\n",
       "Crece con Google                               4.900000\n",
       "London Business School                         4.900000\n",
       "Google - Spectrum Sharing                      4.900000\n",
       "ScrumTrek                                      4.900000\n",
       "Universidade de São Paulo                      4.866667\n",
       "The University of Chicago                      4.850000\n",
       "Universidad de los Andes                       4.820000\n",
       "Name: course_rating, dtype: float64"
      ]
     },
     "execution_count": 16,
     "metadata": {},
     "output_type": "execute_result"
    }
   ],
   "source": [
    "org1 = data.groupby(['course_organization'])['course_rating'].mean()\n",
    "org1 = org1.sort_values(ascending=False).head(10)\n",
    "org1"
   ]
  },
  {
   "cell_type": "code",
   "execution_count": 17,
   "id": "9972c480",
   "metadata": {},
   "outputs": [
    {
     "data": {
      "text/plain": [
       "course_organization\n",
       "University of Michigan              7437700\n",
       "University of Pennsylvania          5501300\n",
       "Stanford University                 4854000\n",
       "University of California, Irvine    4326000\n",
       "Johns Hopkins University            4298900\n",
       "Duke University                     3967600\n",
       "Yale University                     3952000\n",
       "IBM                                 2956400\n",
       "deeplearning.ai                     2863400\n",
       "Google Cloud                        2604300\n",
       "Name: course_students_enrolled, dtype: int64"
      ]
     },
     "execution_count": 17,
     "metadata": {},
     "output_type": "execute_result"
    }
   ],
   "source": [
    "org2 = data.groupby(['course_organization'])['course_students_enrolled'].agg('sum')\n",
    "org2 = org2.sort_values(ascending=False).head(10)\n",
    "org2"
   ]
  },
  {
   "cell_type": "code",
   "execution_count": 18,
   "id": "d6335376",
   "metadata": {},
   "outputs": [
    {
     "data": {
      "text/html": [
       "<div>\n",
       "<style scoped>\n",
       "    .dataframe tbody tr th:only-of-type {\n",
       "        vertical-align: middle;\n",
       "    }\n",
       "\n",
       "    .dataframe tbody tr th {\n",
       "        vertical-align: top;\n",
       "    }\n",
       "\n",
       "    .dataframe thead th {\n",
       "        text-align: right;\n",
       "    }\n",
       "</style>\n",
       "<table border=\"1\" class=\"dataframe\">\n",
       "  <thead>\n",
       "    <tr style=\"text-align: right;\">\n",
       "      <th></th>\n",
       "      <th>course_rating</th>\n",
       "      <th>course_students_enrolled</th>\n",
       "    </tr>\n",
       "  </thead>\n",
       "  <tbody>\n",
       "    <tr>\n",
       "      <th>count</th>\n",
       "      <td>891.000000</td>\n",
       "      <td>8.910000e+02</td>\n",
       "    </tr>\n",
       "    <tr>\n",
       "      <th>mean</th>\n",
       "      <td>4.677329</td>\n",
       "      <td>9.055208e+04</td>\n",
       "    </tr>\n",
       "    <tr>\n",
       "      <th>std</th>\n",
       "      <td>0.162225</td>\n",
       "      <td>1.819365e+05</td>\n",
       "    </tr>\n",
       "    <tr>\n",
       "      <th>min</th>\n",
       "      <td>3.300000</td>\n",
       "      <td>1.500000e+03</td>\n",
       "    </tr>\n",
       "    <tr>\n",
       "      <th>25%</th>\n",
       "      <td>4.600000</td>\n",
       "      <td>1.750000e+04</td>\n",
       "    </tr>\n",
       "    <tr>\n",
       "      <th>50%</th>\n",
       "      <td>4.700000</td>\n",
       "      <td>4.200000e+04</td>\n",
       "    </tr>\n",
       "    <tr>\n",
       "      <th>75%</th>\n",
       "      <td>4.800000</td>\n",
       "      <td>9.950000e+04</td>\n",
       "    </tr>\n",
       "    <tr>\n",
       "      <th>max</th>\n",
       "      <td>5.000000</td>\n",
       "      <td>3.200000e+06</td>\n",
       "    </tr>\n",
       "  </tbody>\n",
       "</table>\n",
       "</div>"
      ],
      "text/plain": [
       "       course_rating  course_students_enrolled\n",
       "count     891.000000              8.910000e+02\n",
       "mean        4.677329              9.055208e+04\n",
       "std         0.162225              1.819365e+05\n",
       "min         3.300000              1.500000e+03\n",
       "25%         4.600000              1.750000e+04\n",
       "50%         4.700000              4.200000e+04\n",
       "75%         4.800000              9.950000e+04\n",
       "max         5.000000              3.200000e+06"
      ]
     },
     "execution_count": 18,
     "metadata": {},
     "output_type": "execute_result"
    }
   ],
   "source": [
    "data[[\"course_rating\",\"course_students_enrolled\"]].describe()"
   ]
  },
  {
   "cell_type": "markdown",
   "id": "63ebf3a5",
   "metadata": {},
   "source": [
    "### 4.3 Top Courses"
   ]
  },
  {
   "cell_type": "code",
   "execution_count": 19,
   "id": "f8bb20ed",
   "metadata": {},
   "outputs": [
    {
     "data": {
      "text/html": [
       "<div>\n",
       "<style scoped>\n",
       "    .dataframe tbody tr th:only-of-type {\n",
       "        vertical-align: middle;\n",
       "    }\n",
       "\n",
       "    .dataframe tbody tr th {\n",
       "        vertical-align: top;\n",
       "    }\n",
       "\n",
       "    .dataframe thead th {\n",
       "        text-align: right;\n",
       "    }\n",
       "</style>\n",
       "<table border=\"1\" class=\"dataframe\">\n",
       "  <thead>\n",
       "    <tr style=\"text-align: right;\">\n",
       "      <th></th>\n",
       "      <th>course_title</th>\n",
       "      <th>course_students_enrolled</th>\n",
       "    </tr>\n",
       "  </thead>\n",
       "  <tbody>\n",
       "    <tr>\n",
       "      <th>564</th>\n",
       "      <td>Machine Learning</td>\n",
       "      <td>3200000</td>\n",
       "    </tr>\n",
       "    <tr>\n",
       "      <th>815</th>\n",
       "      <td>The Science of Well-Being</td>\n",
       "      <td>2500000</td>\n",
       "    </tr>\n",
       "    <tr>\n",
       "      <th>688</th>\n",
       "      <td>Python for Everybody</td>\n",
       "      <td>1500000</td>\n",
       "    </tr>\n",
       "    <tr>\n",
       "      <th>674</th>\n",
       "      <td>Programming for Everybody (Getting Started wit...</td>\n",
       "      <td>1300000</td>\n",
       "    </tr>\n",
       "    <tr>\n",
       "      <th>196</th>\n",
       "      <td>Data Science</td>\n",
       "      <td>830000</td>\n",
       "    </tr>\n",
       "    <tr>\n",
       "      <th>129</th>\n",
       "      <td>Career Success</td>\n",
       "      <td>790000</td>\n",
       "    </tr>\n",
       "    <tr>\n",
       "      <th>261</th>\n",
       "      <td>English for Career Development</td>\n",
       "      <td>760000</td>\n",
       "    </tr>\n",
       "    <tr>\n",
       "      <th>765</th>\n",
       "      <td>Successful Negotiation: Essential Strategies a...</td>\n",
       "      <td>750000</td>\n",
       "    </tr>\n",
       "    <tr>\n",
       "      <th>199</th>\n",
       "      <td>Data Science: Foundations using R</td>\n",
       "      <td>740000</td>\n",
       "    </tr>\n",
       "    <tr>\n",
       "      <th>211</th>\n",
       "      <td>Deep Learning</td>\n",
       "      <td>690000</td>\n",
       "    </tr>\n",
       "  </tbody>\n",
       "</table>\n",
       "</div>"
      ],
      "text/plain": [
       "                                          course_title  \\\n",
       "564                                   Machine Learning   \n",
       "815                          The Science of Well-Being   \n",
       "688                               Python for Everybody   \n",
       "674  Programming for Everybody (Getting Started wit...   \n",
       "196                                       Data Science   \n",
       "129                                     Career Success   \n",
       "261                     English for Career Development   \n",
       "765  Successful Negotiation: Essential Strategies a...   \n",
       "199                  Data Science: Foundations using R   \n",
       "211                                      Deep Learning   \n",
       "\n",
       "     course_students_enrolled  \n",
       "564                   3200000  \n",
       "815                   2500000  \n",
       "688                   1500000  \n",
       "674                   1300000  \n",
       "196                    830000  \n",
       "129                    790000  \n",
       "261                    760000  \n",
       "765                    750000  \n",
       "199                    740000  \n",
       "211                    690000  "
      ]
     },
     "execution_count": 19,
     "metadata": {},
     "output_type": "execute_result"
    }
   ],
   "source": [
    "top_enrolled_course = data.sort_values(by=['course_students_enrolled'], ascending=False).head(10)\n",
    "# sns.barplot(x = top_enrolled_course.course_title, y = top_enrolled_course.course_students_enrolled)\n",
    "# plt.xticks(rotation = 90);\n",
    "top_enrolled_course[[\"course_title\", \"course_students_enrolled\"]]"
   ]
  },
  {
   "cell_type": "code",
   "execution_count": 20,
   "id": "5d4a7676",
   "metadata": {},
   "outputs": [
    {
     "data": {
      "text/html": [
       "<div>\n",
       "<style scoped>\n",
       "    .dataframe tbody tr th:only-of-type {\n",
       "        vertical-align: middle;\n",
       "    }\n",
       "\n",
       "    .dataframe tbody tr th {\n",
       "        vertical-align: top;\n",
       "    }\n",
       "\n",
       "    .dataframe thead th {\n",
       "        text-align: right;\n",
       "    }\n",
       "</style>\n",
       "<table border=\"1\" class=\"dataframe\">\n",
       "  <thead>\n",
       "    <tr style=\"text-align: right;\">\n",
       "      <th></th>\n",
       "      <th>course_title</th>\n",
       "      <th>course_rating</th>\n",
       "    </tr>\n",
       "  </thead>\n",
       "  <tbody>\n",
       "    <tr>\n",
       "      <th>251</th>\n",
       "      <td>El Abogado del Futuro: Legaltech y la Transfor...</td>\n",
       "      <td>5.0</td>\n",
       "    </tr>\n",
       "    <tr>\n",
       "      <th>432</th>\n",
       "      <td>Infectious Disease Modelling</td>\n",
       "      <td>5.0</td>\n",
       "    </tr>\n",
       "    <tr>\n",
       "      <th>754</th>\n",
       "      <td>Stories of Infection</td>\n",
       "      <td>4.9</td>\n",
       "    </tr>\n",
       "    <tr>\n",
       "      <th>290</th>\n",
       "      <td>Everyday Parenting: The ABCs of Child Rearing</td>\n",
       "      <td>4.9</td>\n",
       "    </tr>\n",
       "    <tr>\n",
       "      <th>98</th>\n",
       "      <td>Boosting Creativity for Innovation</td>\n",
       "      <td>4.9</td>\n",
       "    </tr>\n",
       "    <tr>\n",
       "      <th>99</th>\n",
       "      <td>Brand Management: Aligning Business, Brand and...</td>\n",
       "      <td>4.9</td>\n",
       "    </tr>\n",
       "    <tr>\n",
       "      <th>614</th>\n",
       "      <td>More Introduction to Financial Accounting</td>\n",
       "      <td>4.9</td>\n",
       "    </tr>\n",
       "    <tr>\n",
       "      <th>102</th>\n",
       "      <td>Bugs 101: Insect-Human Interactions</td>\n",
       "      <td>4.9</td>\n",
       "    </tr>\n",
       "    <tr>\n",
       "      <th>836</th>\n",
       "      <td>Understanding Einstein: The Special Theory of ...</td>\n",
       "      <td>4.9</td>\n",
       "    </tr>\n",
       "    <tr>\n",
       "      <th>103</th>\n",
       "      <td>Build a Modern Computer from First Principles:...</td>\n",
       "      <td>4.9</td>\n",
       "    </tr>\n",
       "  </tbody>\n",
       "</table>\n",
       "</div>"
      ],
      "text/plain": [
       "                                          course_title  course_rating\n",
       "251  El Abogado del Futuro: Legaltech y la Transfor...            5.0\n",
       "432                       Infectious Disease Modelling            5.0\n",
       "754                               Stories of Infection            4.9\n",
       "290      Everyday Parenting: The ABCs of Child Rearing            4.9\n",
       "98                  Boosting Creativity for Innovation            4.9\n",
       "99   Brand Management: Aligning Business, Brand and...            4.9\n",
       "614          More Introduction to Financial Accounting            4.9\n",
       "102                Bugs 101: Insect-Human Interactions            4.9\n",
       "836  Understanding Einstein: The Special Theory of ...            4.9\n",
       "103  Build a Modern Computer from First Principles:...            4.9"
      ]
     },
     "execution_count": 20,
     "metadata": {},
     "output_type": "execute_result"
    }
   ],
   "source": [
    "top_rated_course = data.sort_values(by=['course_rating'], ascending=False).head(10)\n",
    "# sns.barplot(x = top_rated_course.course_title, y = top_rated_course.course_rating)\n",
    "# plt.xticks(rotation = 90);\n",
    "top_rated_course[[\"course_title\", \"course_rating\"]]"
   ]
  },
  {
   "cell_type": "code",
   "execution_count": 21,
   "id": "870fb9ed",
   "metadata": {},
   "outputs": [
    {
     "data": {
      "text/plain": [
       "<AxesSubplot:xlabel='course_rating', ylabel='course_students_enrolled'>"
      ]
     },
     "execution_count": 21,
     "metadata": {},
     "output_type": "execute_result"
    },
    {
     "data": {
      "image/png": "[encoded data removed]",
      "text/plain": [
       "<Figure size 432x288 with 1 Axes>"
      ]
     },
     "metadata": {
      "needs_background": "light"
     },
     "output_type": "display_data"
    }
   ],
   "source": [
    "sns.scatterplot(data = data, x = \"course_rating\", y = \"course_students_enrolled\")"
   ]
  },
  {
   "cell_type": "code",
   "execution_count": 22,
   "id": "89eb4599",
   "metadata": {},
   "outputs": [
    {
     "data": {
      "text/plain": [
       "<matplotlib.legend.Legend at 0x7fc86f6094f0>"
      ]
     },
     "execution_count": 22,
     "metadata": {},
     "output_type": "execute_result"
    },
    {
     "data": {
      "image/png": "[encoded data removed]",
      "text/plain": [
       "<Figure size 432x288 with 1 Axes>"
      ]
     },
     "metadata": {
      "needs_background": "light"
     },
     "output_type": "display_data"
    }
   ],
   "source": [
    "for x in [\"Beginner\", \"Intermediate\", \"Mixed\", \"Advanced\"]:\n",
    "    to_plot = data.loc[data[\"course_difficulty\"] == x]\n",
    "    plt.hist(to_plot[\"course_rating\"], bins = 25, label = x)\n",
    "    \n",
    "plt.legend()"
   ]
  },
  {
   "cell_type": "markdown",
   "id": "12c69d94",
   "metadata": {},
   "source": [
    "## 5. Hypothesis Testing\n",
    "\n",
    "In this section, we raised 3 hypotheses including\n",
    "\n",
    "> 1. Beginner vs Intermediate <br>\n",
    "> $H_0: \\mu_B = \\mu_I$ <br>\n",
    "> $H_1: \\mu_B \\ne \\mu_I$\n",
    "\n",
    "> 2. Beginner vs Mixed <br>\n",
    "> $H_0: \\mu_B = \\mu_M$ <br>\n",
    "> $H_1: \\mu_B \\ne \\mu_M$\n",
    "\n",
    "> 3. Beginner vs Advanced <br>\n",
    "> $H_0: \\mu_B = \\mu_A$ <br>\n",
    "> $H_1: \\mu_B \\ne \\mu_A$\n",
    "\n",
    "But we will more focus in the first hypothesis. Therefore, we start by finding means and variances of rating in beginner and intermediate courses as follows."
   ]
  },
  {
   "cell_type": "code",
   "execution_count": 23,
   "id": "242c250d",
   "metadata": {},
   "outputs": [
    {
     "data": {
      "text/plain": [
       "count    487.000000\n",
       "mean       4.680903\n",
       "std        0.141947\n",
       "min        4.100000\n",
       "25%        4.600000\n",
       "50%        4.700000\n",
       "75%        4.800000\n",
       "max        5.000000\n",
       "Name: course_rating, dtype: float64"
      ]
     },
     "execution_count": 23,
     "metadata": {},
     "output_type": "execute_result"
    }
   ],
   "source": [
    "beginner = data.loc[data[\"course_difficulty\"] == 'Beginner']\n",
    "beginner[\"course_rating\"].describe()"
   ]
  },
  {
   "cell_type": "code",
   "execution_count": 24,
   "id": "a8a011ef",
   "metadata": {},
   "outputs": [
    {
     "data": {
      "text/plain": [
       "count    198.000000\n",
       "mean       4.646465\n",
       "std        0.188939\n",
       "min        3.700000\n",
       "25%        4.600000\n",
       "50%        4.700000\n",
       "75%        4.800000\n",
       "max        5.000000\n",
       "Name: course_rating, dtype: float64"
      ]
     },
     "execution_count": 24,
     "metadata": {},
     "output_type": "execute_result"
    }
   ],
   "source": [
    "intermediate = data.loc[data[\"course_difficulty\"] == 'Intermediate']\n",
    "intermediate[\"course_rating\"].describe()"
   ]
  },
  {
   "cell_type": "markdown",
   "id": "fa709dee",
   "metadata": {},
   "source": [
    "### 5.1  T-test\n",
    "\n",
    "T-test is applied to test the hypothesis between two populations. "
   ]
  },
  {
   "cell_type": "code",
   "execution_count": 25,
   "id": "0fd918ff",
   "metadata": {},
   "outputs": [
    {
     "name": "stdout",
     "output_type": "stream",
     "text": [
      "Test statistic is 2.603359\n",
      "p-value for two tailed test is 0.009432\n"
     ]
    }
   ],
   "source": [
    "from scipy import stats\n",
    "\n",
    "t_value,p_value=stats.ttest_ind(beginner[\"course_rating\"],intermediate[\"course_rating\"])\n",
    "\n",
    "print('Test statistic is %f'%float(\"{:.6f}\".format(t_value)))\n",
    "print('p-value for two tailed test is %f'%p_value)"
   ]
  },
  {
   "cell_type": "markdown",
   "id": "4aaeb01b",
   "metadata": {},
   "source": [
    "P-value is less than 0.05. Thus, beginner and intermediate courses statistically have the same rating. "
   ]
  },
  {
   "cell_type": "markdown",
   "id": "ae813d8e",
   "metadata": {},
   "source": [
    "## 6. Summary\n",
    "\n",
    "The points are concluded below\n",
    "\n",
    "> <li> Coursera has more beginner courses than other difficulties. </li>\n",
    "> <li> The courses related to Data Science and Machine Learning are likely to have more enrolled students </li>\n",
    "> <li> All courses are rated above 4.1 </li>\n",
    "> <li> Beginner and Intermediate courses are rated same statistically </li>\n",
    "> <li> University of Pennsylvania has more courses but less students than University of Michigan. The reason should be further investigated for benefits of University of Pennsylvania which has the highest number of courses in Coursera </li>"
   ]
  },
  {
   "cell_type": "code",
   "execution_count": null,
   "id": "dee7d633",
   "metadata": {},
   "outputs": [],
   "source": []
  }
 ],
 "metadata": {
  "kernelspec": {
   "display_name": "Python 3 (ipykernel)",
   "language": "python",
   "name": "python3"
  },
  "language_info": {
   "codemirror_mode": {
    "name": "ipython",
    "version": 3
   },
   "file_extension": ".py",
   "mimetype": "text/x-python",
   "name": "python",
   "nbconvert_exporter": "python",
   "pygments_lexer": "ipython3",
   "version": "3.8.8"
  }
 },
 "nbformat": 4,
 "nbformat_minor": 5
}
